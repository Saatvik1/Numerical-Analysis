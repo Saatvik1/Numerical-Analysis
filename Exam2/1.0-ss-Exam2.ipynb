{
 "cells": [
  {
   "cell_type": "code",
   "execution_count": 1,
   "metadata": {},
   "outputs": [],
   "source": [
    "import pandas as pd\n",
    "import numpy as np\n",
    "import matplotlib as mp\n",
    "import math as math\n",
    "import matplotlib.pyplot as plt"
   ]
  },
  {
   "cell_type": "markdown",
   "metadata": {},
   "source": [
    "# Define Equation"
   ]
  },
  {
   "cell_type": "code",
   "execution_count": 2,
   "metadata": {},
   "outputs": [],
   "source": [
    "def f(x):\n",
    "    return np.exp(x**5)\n"
   ]
  },
  {
   "cell_type": "markdown",
   "metadata": {},
   "source": [
    "# Midpoint Method"
   ]
  },
  {
   "cell_type": "code",
   "execution_count": 3,
   "metadata": {},
   "outputs": [],
   "source": [
    "def midpoint_method(a, b, n):\n",
    "\n",
    "    # get the delta x in the midpoint equation, the size of the interval along the boudns we are integrating\n",
    "    delta_x = (b - a) / n\n",
    "    # using np.linspace, get the x points for the middle of the intervals\n",
    "    midpoints = np.linspace(a + delta_x/2, b - delta_x/2, n)\n",
    "    #return the equation calculating the mid points\n",
    "    return delta_x * np.sum(f(midpoints))"
   ]
  },
  {
   "cell_type": "markdown",
   "metadata": {},
   "source": [
    "# Simpson 1/3"
   ]
  },
  {
   "cell_type": "code",
   "execution_count": 4,
   "metadata": {},
   "outputs": [],
   "source": [
    "def simp13(a, b, n):\n",
    "    #calculate delta_x given bounds and number of intervals\n",
    "    delta_x = (b - a) / (n - 1)\n",
    "    #gather x points using np.linspace\n",
    "    x = np.linspace(a, b, n)\n",
    "    #generate y values \n",
    "    y = f(x)\n",
    "\n",
    "    # then find the sums of the odd x values and the sums of the even x values under the function we are integrating\n",
    "    odd_sum = 0\n",
    "    even_sum = 0\n",
    "    for i in range(1, n-1, 2):\n",
    "        odd_sum += y[i]\n",
    "    for i in range(2, n-2, 2):\n",
    "        even_sum += y[i]\n",
    "    \n",
    "    # plug it all into the equation\n",
    "    return (delta_x/3) * (y[0] + 4*odd_sum + 2*even_sum + y[-1])\n"
   ]
  },
  {
   "cell_type": "markdown",
   "metadata": {},
   "source": [
    "# Simpson 3/8"
   ]
  },
  {
   "cell_type": "code",
   "execution_count": 5,
   "metadata": {},
   "outputs": [],
   "source": [
    "def simp38(a, b, n):\n",
    "\n",
    "    #calculate the delta x given the # of intervals\n",
    "    delta_x = (b - a) / (n - 1)\n",
    "    #generate x values using np.linspace\n",
    "    x = np.linspace(a, b, n)\n",
    "    #calculate the function values we are going to integrate\n",
    "    y = f(x)\n",
    "\n",
    "    # get sums of ddifferent parts of the equation\n",
    "    sum_t = 0\n",
    "    sum_nt = 0\n",
    "    for i in range(1, n-1):\n",
    "        if i % 3 == 0:\n",
    "            sum_nt += y[i]\n",
    "        else:\n",
    "            sum_t += y[i]\n",
    "    \n",
    "    # plut it all into the equation and then return \n",
    "    return (3*delta_x/8) * (y[0] + 3*sum_t + 2*sum_nt + y[-1])"
   ]
  },
  {
   "cell_type": "markdown",
   "metadata": {},
   "source": [
    "# Guassian Quadrature"
   ]
  },
  {
   "cell_type": "code",
   "execution_count": 6,
   "metadata": {},
   "outputs": [],
   "source": [
    "# bounds not needed since by default uses -1 to 1b\n",
    "def gaussian_quadrature(n):\n",
    "    #.legendre returns the xis as well as the weights (c) needed to use the gaussian quardrature formula\n",
    "    xi, c = np.polynomial.legendre.leggauss(n)\n",
    "\n",
    "    #return sum as specified in the gfaussian quadrature equation\n",
    "    final = 0\n",
    "    for i in range(n):\n",
    "        final += c[i] * f(xi[i])\n",
    "\n",
    "    #return\n",
    "    return final\n"
   ]
  },
  {
   "cell_type": "markdown",
   "metadata": {},
   "source": [
    "# Monte Carlo"
   ]
  },
  {
   "cell_type": "code",
   "execution_count": 7,
   "metadata": {},
   "outputs": [],
   "source": [
    "def monte_carlo(a, b, n):\n",
    "    # get random x values using np.uniform between the bounds and n of them\n",
    "    xn = np.random.uniform(a, b, n)\n",
    "    # sum of f(xn)\n",
    "    sum = 0\n",
    "    for i in range(n):\n",
    "        sum += f(xn[i])\n",
    "\n",
    "    # return as specified from monte carlo equation\n",
    "    return ((b - a) / n) * sum"
   ]
  },
  {
   "cell_type": "markdown",
   "metadata": {},
   "source": [
    "# Run and test"
   ]
  },
  {
   "cell_type": "code",
   "execution_count": 8,
   "metadata": {},
   "outputs": [
    {
     "name": "stdout",
     "output_type": "stream",
     "text": [
      "Midpoint method returns: 2.094772568546673, with an error of -0.000195602774526904\n",
      "Simpson 1/3 method returns: 2.0949693708997557, with an error of 1.1995785555996008e-06\n",
      "Simpson 3/8 method returns: 2.0820747975397573, with an error of -0.01289337378144273\n",
      "Gaussuan Quad method returns: 2.092230298505938, with an error of -0.0027378728152620546\n",
      "Monte Carlo method returns: 2.0972584667360894, with an error of 0.002290295414889343\n"
     ]
    }
   ],
   "source": [
    "a = -1\n",
    "b = 1\n",
    "\n",
    "midpoint_res = midpoint_method(a, b, 100)\n",
    "simp13_res = simp13(a, b, 101)\n",
    "simp38_res = simp38(a, b, 101)\n",
    "gaussian_res = gaussian_quadrature(5)\n",
    "mc_res = monte_carlo(a, b, 1000)\n",
    "\n",
    "correct_answer = 2.0949681713212\n",
    "\n",
    "\n",
    "print(f\"Midpoint method returns: {midpoint_res}, with an error of {midpoint_res - correct_answer}\")\n",
    "print(f\"Simpson 1/3 method returns: {simp13_res}, with an error of {simp13_res - correct_answer}\")\n",
    "print(f\"Simpson 3/8 method returns: {simp38_res}, with an error of {simp38_res - correct_answer}\")\n",
    "print(f\"Gaussuan Quad method returns: {gaussian_res}, with an error of {gaussian_res - correct_answer}\")\n",
    "print(f\"Monte Carlo method returns: {mc_res}, with an error of {mc_res - correct_answer}\")"
   ]
  },
  {
   "cell_type": "markdown",
   "metadata": {},
   "source": [
    "Midpoint method returns: 2.094772568546673, with an error of -0.000195602774526904\n",
    "\n",
    "Simpson 1/3 method returns: 2.0949693708997557, with an error of 1.1995785555996008e-06\n",
    "\n",
    "Simpson 3/8 method returns: 2.0820747975397573, with an error of -0.01289337378144273\n",
    "\n",
    "Gaussuan Quad method returns: 2.092230298505938, with an error of -0.0027378728152620546\n",
    "\n",
    "Monte Carlo method returns: 2.0972584667360894, with an error of 0.002290295414889343\n"
   ]
  },
  {
   "cell_type": "markdown",
   "metadata": {},
   "source": []
  }
 ],
 "metadata": {
  "kernelspec": {
   "display_name": "base",
   "language": "python",
   "name": "python3"
  },
  "language_info": {
   "codemirror_mode": {
    "name": "ipython",
    "version": 3
   },
   "file_extension": ".py",
   "mimetype": "text/x-python",
   "name": "python",
   "nbconvert_exporter": "python",
   "pygments_lexer": "ipython3",
   "version": "3.11.5"
  }
 },
 "nbformat": 4,
 "nbformat_minor": 2
}
