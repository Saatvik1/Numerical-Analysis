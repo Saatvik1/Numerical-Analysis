{
 "cells": [
  {
   "cell_type": "code",
   "execution_count": 1,
   "metadata": {},
   "outputs": [],
   "source": [
    "import pandas as pd\n",
    "import numpy as np\n",
    "import matplotlib as mp\n",
    "import math as math\n",
    "import matplotlib.pyplot as plt"
   ]
  },
  {
   "cell_type": "markdown",
   "metadata": {},
   "source": [
    "# Question 1:"
   ]
  },
  {
   "cell_type": "code",
   "execution_count": 2,
   "metadata": {},
   "outputs": [],
   "source": [
    "# define function that is u(x,y)\n",
    "def u(x,y):\n",
    "    return np.exp(x**6 - y**4)\n",
    "\n",
    "# define constant for number of samples\n",
    "N = 10**6"
   ]
  },
  {
   "cell_type": "code",
   "execution_count": 3,
   "metadata": {},
   "outputs": [],
   "source": [
    "def monte_uniform():\n",
    "    # get random x and y values based off uniform distribution, and number of samples specified\n",
    "    x = np.random.uniform(-1, 1, N)\n",
    "    y = np.random.uniform(-1, 1, N)\n",
    "    \n",
    "    # get values based off of randomly sampled x and y\n",
    "    random_u_values = u(x, y)\n",
    "    \n",
    "    # estimate integral area by taking the average of the values, and multiply by area\n",
    "    integral_est = 4 * np.mean(random_u_values)\n",
    "    \n",
    "    # return integral estimate and then return the error \n",
    "    return integral_est, integral_est - 4.028423"
   ]
  },
  {
   "cell_type": "code",
   "execution_count": 4,
   "metadata": {},
   "outputs": [],
   "source": [
    "# create a function for the magnitude of the gradient function\n",
    "def grad_u_mag(x, y):\n",
    "    # calc grad of x, y, then the magnitude\n",
    "    grad_x = 6 * x**5\n",
    "    grad_y = -4 * y**3\n",
    "    return np.exp(x**6 - y**4) * np.sqrt(grad_x**2 + grad_y**2)\n",
    "\n"
   ]
  },
  {
   "cell_type": "code",
   "execution_count": 5,
   "metadata": {},
   "outputs": [],
   "source": [
    "# apply weights to uniformly sampled values to simuluate proportion density sampling\n",
    "def monte_weighted():\n",
    "\n",
    "    # get random x and y values based off uniform distribution, and number of samples specified\n",
    "    x = np.random.uniform(-1, 1, N)\n",
    "    y = np.random.uniform(-1, 1, N)\n",
    "\n",
    "    # get values based off of randomly sampled x and y\n",
    "    random_u_values = u(x, y)\n",
    "\n",
    "    # get the weights of the randomly sampled x and y based off the gradient, to get simulate proportional density \n",
    "    weights = grad_u_mag(x, y)\n",
    "\n",
    "    # normalize weights to sum to 0\n",
    "    normalized_weights = weights / np.sum(weights)\n",
    "\n",
    "    # esitmate integral\n",
    "    integral_est = np.sum(random_u_values * normalized_weights) * 4\n",
    "\n",
    "    # return integral estimate and then return the error\n",
    "    return integral_est, integral_est - 4.028423\n"
   ]
  },
  {
   "cell_type": "code",
   "execution_count": 6,
   "metadata": {},
   "outputs": [
    {
     "name": "stdout",
     "output_type": "stream",
     "text": [
      "uniform method gives an integral value of: 4.028910511843306, with an error of 0.00048751184330608766\n",
      "weighted method gives an integral value of: 5.659618605833079, with an error of 1.6311956058330788\n"
     ]
    }
   ],
   "source": [
    "uniform_int_val, uniform_int_error = monte_uniform()\n",
    "weighted_int_val, weighted_int_error = monte_weighted()\n",
    "\n",
    "print(f\"uniform method gives an integral value of: {uniform_int_val}, with an error of {uniform_int_error}\")\n",
    "print(f\"weighted method gives an integral value of: {weighted_int_val}, with an error of {weighted_int_error}\")"
   ]
  },
  {
   "cell_type": "markdown",
   "metadata": {},
   "source": [
    "uniform method gives an integral value of: 4.028910511843306, with an error of 0.00048751184330608766\n",
    "\n",
    "weighted method gives an integral value of: 5.659618605833079, with an error of 1.6311956058330788"
   ]
  },
  {
   "cell_type": "markdown",
   "metadata": {},
   "source": [
    "# Question 2:"
   ]
  },
  {
   "cell_type": "code",
   "execution_count": 7,
   "metadata": {},
   "outputs": [],
   "source": [
    "# define N for this problem\n",
    "N = 2**10"
   ]
  },
  {
   "cell_type": "code",
   "execution_count": 8,
   "metadata": {},
   "outputs": [],
   "source": [
    "def generate_matrices():\n",
    "    A = np.random.uniform(-1, 1, (N, N))\n",
    "    B = np.random.uniform(-1, 1, (N, N))\n",
    "    return A, B"
   ]
  },
  {
   "cell_type": "code",
   "execution_count": 9,
   "metadata": {},
   "outputs": [],
   "source": [
    "def add(A, B): return A + B\n",
    "def sub(A, B): return A - B\n",
    "\n",
    "def strassen_2level(A, B, level):\n",
    "    # get size of A being recursively passed down\n",
    "    n = A.shape[0]\n",
    "    \n",
    "    # base case for strassen recursion\n",
    "    if level == 0 or n == 1:\n",
    "        return A @ B\n",
    "\n",
    "    # get mid of the matricies to split it properly\n",
    "    mid = n // 2\n",
    "    A11, A12 = A[:mid, :mid], A[:mid, mid:]\n",
    "    A21, A22 = A[mid:, :mid], A[mid:, mid:]\n",
    "    B11, B12 = B[:mid, :mid], B[:mid, mid:]\n",
    "    B21, B22 = B[mid:, :mid], B[mid:, mid:]\n",
    "\n",
    "    # apply the strassen M transformations\n",
    "    M1 = strassen_2level(add(A11, A22), add(B11, B22), level-1)\n",
    "    M2 = strassen_2level(add(A21, A22), B11, level-1)\n",
    "    M3 = strassen_2level(A11, sub(B12, B22), level-1)\n",
    "    M4 = strassen_2level(A22, sub(B21, B11), level-1)\n",
    "    M5 = strassen_2level(add(A11, A12), B22, level-1)\n",
    "    M6 = strassen_2level(sub(A21, A11), add(B11, B12), level-1)\n",
    "    M7 = strassen_2level(sub(A12, A22), add(B21, B22), level-1)\n",
    "\n",
    "    # recombine matriceis according to strassen\n",
    "    C11 = M1 + M4 - M5 + M7\n",
    "    C12 = M3 + M5\n",
    "    C21 = M2 + M4\n",
    "    C22 = M1 - M2 + M3 + M6\n",
    "\n",
    "    # assemble final matrix using horizontal and vertical stack and return\n",
    "    return np.vstack((np.hstack((C11, C12)), np.hstack((C21, C22))))\n"
   ]
  },
  {
   "cell_type": "code",
   "execution_count": 10,
   "metadata": {},
   "outputs": [],
   "source": [
    "def inverse_matrix(C):\n",
    "    # get size of C\n",
    "    n = C.shape[0]\n",
    "    # copy matrix so C is not effected\n",
    "    A = np.copy(C)\n",
    "    # create identiy matrix of size n\n",
    "    I = np.identity(n)\n",
    "    \n",
    "    for i in range(n):\n",
    "        # first go through and make sure the pivot is non 0\n",
    "        if A[i, i] == 0:\n",
    "            # if 0, go through ever row after and check if the row beneath is has a non 0 pivot in the correct spot\n",
    "            for j in range(i+1, n):\n",
    "                # if non 0 new pivot, swap rows in both A and I, as according go gaussian jordan method\n",
    "                if A[j, i] != 0:\n",
    "                    I[[i, j]] = I[[j, i]]\n",
    "                    A[[i, j]] = A[[j, i]]\n",
    "    \n",
    "                    # break second loop and continue loop\n",
    "                    break\n",
    "        \n",
    "        # normalize pivot\n",
    "        pivot = A[i, i]\n",
    "        # divide whole row by pivot\n",
    "        A[i] = A[i] / pivot\n",
    "        I[i] = I[i] / pivot\n",
    "        \n",
    "        # apply elimination to other rows by a factor of what what A[j, i]. so if pivot is now 1 and index holds 3 in row underneath,\n",
    "        # then factor is 3, and the pivot row is multiplied by factor (3) and subtracts the non-pivot row we are transforming\n",
    "        # reflect change in identity matrix\n",
    "        for j in range(n):\n",
    "            if j != i:\n",
    "                factor = A[j, i]\n",
    "                I[j] = I[j] - factor * I[i]\n",
    "                A[j] = A[j] - factor * A[i]\n",
    "                \n",
    "    return I"
   ]
  },
  {
   "cell_type": "code",
   "execution_count": 11,
   "metadata": {},
   "outputs": [],
   "source": [
    "A, B = generate_matrices()\n",
    "\n",
    "C = strassen_2level(A, B, 2)\n",
    "\n",
    "C_inv = inverse_matrix(C)\n"
   ]
  },
  {
   "cell_type": "markdown",
   "metadata": {},
   "source": [
    "# IF EXPORT NEEDED UNCOMMENT CELL BELOW AND RE-RUN"
   ]
  },
  {
   "cell_type": "code",
   "execution_count": 12,
   "metadata": {},
   "outputs": [],
   "source": [
    "\n",
    "# np.savetxt(\"A.csv\", A, delimiter=\",\", fmt=\"%.3f\")\n",
    "# np.savetxt(\"B.csv\", B, delimiter=\",\", fmt=\"%.3f\")\n",
    "# np.savetxt(\"C.csv\", C, delimiter=\",\", fmt=\"%.3f\")\n",
    "# np.savetxt(\"C_inv.csv\", C_inv, delimiter=\",\", fmt=\"%.3f\")\n"
   ]
  },
  {
   "cell_type": "markdown",
   "metadata": {},
   "source": [
    "# Question 4:"
   ]
  },
  {
   "cell_type": "code",
   "execution_count": 13,
   "metadata": {},
   "outputs": [
    {
     "data": {
      "text/html": [
       "<div>\n",
       "<style scoped>\n",
       "    .dataframe tbody tr th:only-of-type {\n",
       "        vertical-align: middle;\n",
       "    }\n",
       "\n",
       "    .dataframe tbody tr th {\n",
       "        vertical-align: top;\n",
       "    }\n",
       "\n",
       "    .dataframe thead th {\n",
       "        text-align: right;\n",
       "    }\n",
       "</style>\n",
       "<table border=\"1\" class=\"dataframe\">\n",
       "  <thead>\n",
       "    <tr style=\"text-align: right;\">\n",
       "      <th></th>\n",
       "      <th>x</th>\n",
       "      <th>y</th>\n",
       "    </tr>\n",
       "  </thead>\n",
       "  <tbody>\n",
       "    <tr>\n",
       "      <th>0</th>\n",
       "      <td>0.00</td>\n",
       "      <td>1.0000</td>\n",
       "    </tr>\n",
       "    <tr>\n",
       "      <th>1</th>\n",
       "      <td>0.01</td>\n",
       "      <td>1.0224</td>\n",
       "    </tr>\n",
       "    <tr>\n",
       "      <th>2</th>\n",
       "      <td>0.02</td>\n",
       "      <td>1.0448</td>\n",
       "    </tr>\n",
       "    <tr>\n",
       "      <th>3</th>\n",
       "      <td>0.03</td>\n",
       "      <td>1.0672</td>\n",
       "    </tr>\n",
       "    <tr>\n",
       "      <th>4</th>\n",
       "      <td>0.04</td>\n",
       "      <td>1.0896</td>\n",
       "    </tr>\n",
       "    <tr>\n",
       "      <th>...</th>\n",
       "      <td>...</td>\n",
       "      <td>...</td>\n",
       "    </tr>\n",
       "    <tr>\n",
       "      <th>196</th>\n",
       "      <td>1.96</td>\n",
       "      <td>2.1198</td>\n",
       "    </tr>\n",
       "    <tr>\n",
       "      <th>197</th>\n",
       "      <td>1.97</td>\n",
       "      <td>2.0905</td>\n",
       "    </tr>\n",
       "    <tr>\n",
       "      <th>198</th>\n",
       "      <td>1.98</td>\n",
       "      <td>2.0607</td>\n",
       "    </tr>\n",
       "    <tr>\n",
       "      <th>199</th>\n",
       "      <td>1.99</td>\n",
       "      <td>2.0306</td>\n",
       "    </tr>\n",
       "    <tr>\n",
       "      <th>200</th>\n",
       "      <td>2.00</td>\n",
       "      <td>2.0000</td>\n",
       "    </tr>\n",
       "  </tbody>\n",
       "</table>\n",
       "<p>201 rows × 2 columns</p>\n",
       "</div>"
      ],
      "text/plain": [
       "        x       y\n",
       "0    0.00  1.0000\n",
       "1    0.01  1.0224\n",
       "2    0.02  1.0448\n",
       "3    0.03  1.0672\n",
       "4    0.04  1.0896\n",
       "..    ...     ...\n",
       "196  1.96  2.1198\n",
       "197  1.97  2.0905\n",
       "198  1.98  2.0607\n",
       "199  1.99  2.0306\n",
       "200  2.00  2.0000\n",
       "\n",
       "[201 rows x 2 columns]"
      ]
     },
     "execution_count": 13,
     "metadata": {},
     "output_type": "execute_result"
    }
   ],
   "source": [
    "# For bvp, \n",
    "# will guess value for y'(0)\n",
    "# use rk4 to integrate from x=0 to x=2\n",
    "# check result at y(2), if not == 0, then adjust guess using secant method\n",
    "# converge to correct slope\n",
    "\n",
    "\n",
    "# parameters for problem\n",
    "h = 2/200\n",
    "# general list of x values given h step\n",
    "x_vals = np.arange(0, 2 + h, h)\n",
    "\n",
    "# convert to first order system\n",
    "def f(x, y1, y2):\n",
    "    dy1dx = y2\n",
    "    dy2dx = -x * y1\n",
    "    return dy1dx, dy2dx\n",
    "\n",
    "# using runge kutta method to integrate\n",
    "def rk4(y1_0, y2_0, x_vals):\n",
    "    y1 = np.zeros_like(x_vals)\n",
    "    y2 = np.zeros_like(x_vals)\n",
    "    y1[0] = y1_0\n",
    "    y2[0] = y2_0\n",
    "\n",
    "    for i in range(1, len(x_vals)):\n",
    "        x = x_vals[i - 1]\n",
    "\n",
    "        k1_y1, k1_y2 = f(x, y1[i - 1], y2[i - 1])\n",
    "        k2_y1, k2_y2 = f(x + h / 2, y1[i - 1] + h * k1_y1 / 2, y2[i - 1] + h * k1_y2 / 2)\n",
    "        k3_y1, k3_y2 = f(x + h / 2, y1[i - 1] + h * k2_y1 / 2, y2[i - 1] + h * k2_y2 / 2)\n",
    "        k4_y1, k4_y2 = f(x + h, y1[i - 1] + h * k3_y1, y2[i - 1] + h * k3_y2)\n",
    "\n",
    "        y1[i] = y1[i - 1] + (h / 6) * (k1_y1 + 2 * k2_y1 + 2 * k3_y1 + k4_y1)\n",
    "        y2[i] = y2[i - 1] + (h / 6) * (k1_y2 + 2 * k2_y2 + 2 * k3_y2 + k4_y2)\n",
    "\n",
    "    return y1\n",
    "\n",
    "# shooting method using secant method for root-finding\n",
    "def shooting_method(s0, s1):\n",
    "    # init value\n",
    "    y1_0 = 1\n",
    "    # max iterations of 100\n",
    "    for _ in range(100):\n",
    "        y_s0 = rk4(y1_0, s0, x_vals)[-1]\n",
    "        y_s1 = rk4(y1_0, s1, x_vals)[-1]\n",
    "\n",
    "        # update secant\n",
    "        s_new = s1 - (y_s1 - 2) * (s1 - s0) / (y_s1 - y_s0)\n",
    "\n",
    "        # check if difference is within acceptable differance, if so then secant has converged and return\n",
    "        if abs(y_s1 - 2) < 1e-6:\n",
    "            return rk4(y1_0, s1, x_vals), s1\n",
    "\n",
    "        # if no convergence replace values and continue\n",
    "        s0, s1 = s1, s_new\n",
    "\n",
    "solution, final_slope = shooting_method(0.0, 2.0)\n",
    "\n",
    "# create df of solutions\n",
    "table = pd.DataFrame({\n",
    "    \"x\": x_vals,\n",
    "    \"y\": np.round(solution, 4)\n",
    "})\n",
    "\n",
    "table\n"
   ]
  },
  {
   "cell_type": "code",
   "execution_count": 15,
   "metadata": {},
   "outputs": [],
   "source": [
    "table.to_csv('problem_4_results.csv')"
   ]
  }
 ],
 "metadata": {
  "kernelspec": {
   "display_name": "base",
   "language": "python",
   "name": "python3"
  },
  "language_info": {
   "codemirror_mode": {
    "name": "ipython",
    "version": 3
   },
   "file_extension": ".py",
   "mimetype": "text/x-python",
   "name": "python",
   "nbconvert_exporter": "python",
   "pygments_lexer": "ipython3",
   "version": "3.11.5"
  }
 },
 "nbformat": 4,
 "nbformat_minor": 2
}
