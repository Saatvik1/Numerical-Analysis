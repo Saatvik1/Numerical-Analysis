{
 "cells": [
  {
   "cell_type": "code",
   "execution_count": 1,
   "metadata": {},
   "outputs": [],
   "source": [
    "import pandas as pd\n",
    "import numpy as np\n",
    "import matplotlib as mp\n",
    "import math as math\n",
    "import matplotlib.pyplot as plt"
   ]
  },
  {
   "cell_type": "markdown",
   "metadata": {},
   "source": [
    "# Question 2"
   ]
  },
  {
   "cell_type": "code",
   "execution_count": 2,
   "metadata": {},
   "outputs": [],
   "source": [
    "\n",
    "# function to check if a point is on the curve\n",
    "def is_on_quadrifolium(x, y):\n",
    "    # r = sin(2θ) cartesian is (x^2 + y^2)^2 = (2*x*y)^2\n",
    "    r_sq = x**2 + y**2\n",
    "    left = r_sq**2\n",
    "    right = (2*x*y)**2\n",
    "    # within error\n",
    "    return abs(left - right) < 1e-5\n",
    "\n",
    "# check if the needle is on the curve\n",
    "def does_needle_cross_quadrifolium(center_x, center_y, angle, length):\n",
    "    \n",
    "    # get endpoints of the needle\n",
    "    half_length = length / 2\n",
    "    dx = half_length * np.cos(angle)\n",
    "    dy = half_length * np.sin(angle)\n",
    "    \n",
    "    x1, y1 = center_x - dx, center_y - dy\n",
    "    x2, y2 = center_x + dx, center_y + dy\n",
    "    \n",
    "    # check if endpoints are within the box\n",
    "    if (x1 < -1 or x1 > 1 or y1 < -1 or y1 > 1 or \n",
    "        x2 < -1 or x2 > 1 or y2 < -1 or y2 > 1):\n",
    "        return False\n",
    "    \n",
    "    # take points from the needle and check if they on the curve\n",
    "    crossings = 0\n",
    "    last_on_curve = False\n",
    "\n",
    "    # define num of points to check\n",
    "    num_check_points=100\n",
    "    \n",
    "    # loop through points\n",
    "    for i in range(num_check_points + 1):\n",
    "        t = i / num_check_points\n",
    "        x = x1 + t * (x2 - x1)\n",
    "        y = y1 + t * (y2 - y1)\n",
    "        \n",
    "        #check if on curve\n",
    "        on_curve = is_on_quadrifolium(x, y)\n",
    "        \n",
    "        # if on curve then that means we crossed it, so return true\n",
    "        if on_curve != last_on_curve:\n",
    "            crossings += 1\n",
    "            return True\n",
    "    \n",
    "    return crossings >= 1\n",
    "\n",
    "# run monte carlo simulation\n",
    "def monte_carlo(needle_length, num_trials):\n",
    "    crossings = 0\n",
    "\n",
    "    for _ in range(num_trials):\n",
    "        # generate random positions within boundaries\n",
    "        center_x = 2 * np.random.random() - 1\n",
    "        center_y = 2 * np.random.random() - 1\n",
    "        \n",
    "        # random angle for the needle\n",
    "        angle = 2 * np.pi * np.random.random()\n",
    "        \n",
    "        # check if needle cross curve, and count corssings\n",
    "        if does_needle_cross_quadrifolium(center_x, center_y, angle, needle_length):\n",
    "            crossings += 1\n",
    "    \n",
    "    # return prob by taking occurences and dividing it by the num of trials\n",
    "    return crossings / num_trials\n",
    "\n"
   ]
  },
  {
   "cell_type": "code",
   "execution_count": 3,
   "metadata": {},
   "outputs": [
    {
     "name": "stdout",
     "output_type": "stream",
     "text": [
      "needle length | p(crossing)\n",
      "-------------|------------------------\n",
      "Length: 0.1 | P(L) = 0.09498\n",
      "Length: 0.2 | P(L) = 0.16839\n",
      "Length: 0.25 | P(L) = 0.202\n",
      "Length: 0.3333333333333333 | P(L) = 0.24797\n",
      "Length: 0.5 | P(L) = 0.30765\n",
      "Length: 1 | P(L) = 0.29887\n"
     ]
    }
   ],
   "source": [
    "\n",
    "# needle lengths\n",
    "needle_lengths = [1/10, 1/5, 1/4, 1/3, 1/2, 1]\n",
    "\n",
    "# num of trials -- couple million takes so long but also it returns similar values anyways...\n",
    "num_trials = 100000\n",
    "\n",
    "# print results\n",
    "print(\"needle length | p(crossing)\")\n",
    "print(\"-------------|------------------------\")\n",
    "\n",
    "results = []\n",
    "for length in needle_lengths:\n",
    "    probability = monte_carlo(length, num_trials)\n",
    "    results.append((length, probability))\n",
    "    print(f\"Length: {length} | P(L) = {probability}\")"
   ]
  },
  {
   "cell_type": "markdown",
   "metadata": {},
   "source": [
    "needle length | p(crossing)\n",
    "-------------|------------------------\n",
    "Length: 0.1 | P(L) = 0.09498\n",
    "Length: 0.2 | P(L) = 0.16839\n",
    "Length: 0.25 | P(L) = 0.202\n",
    "Length: 0.3333333333333333 | P(L) = 0.24797\n",
    "Length: 0.5 | P(L) = 0.30765\n",
    "Length: 1 | P(L) = 0.29887"
   ]
  },
  {
   "cell_type": "markdown",
   "metadata": {},
   "source": []
  }
 ],
 "metadata": {
  "kernelspec": {
   "display_name": "base",
   "language": "python",
   "name": "python3"
  },
  "language_info": {
   "codemirror_mode": {
    "name": "ipython",
    "version": 3
   },
   "file_extension": ".py",
   "mimetype": "text/x-python",
   "name": "python",
   "nbconvert_exporter": "python",
   "pygments_lexer": "ipython3",
   "version": "3.11.5"
  }
 },
 "nbformat": 4,
 "nbformat_minor": 2
}
