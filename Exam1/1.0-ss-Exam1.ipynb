{
 "cells": [
  {
   "cell_type": "markdown",
   "metadata": {},
   "source": [
    "Saatvik Sandal 114378631"
   ]
  },
  {
   "cell_type": "code",
   "execution_count": 1,
   "metadata": {},
   "outputs": [],
   "source": [
    "import pandas as pd\n",
    "import numpy as np\n",
    "import matplotlib as mp\n",
    "import math as math\n",
    "import matplotlib.pyplot as plt"
   ]
  },
  {
   "cell_type": "markdown",
   "metadata": {},
   "source": [
    "# Problem 1.1"
   ]
  },
  {
   "cell_type": "markdown",
   "metadata": {},
   "source": [
    "Table Creation:"
   ]
  },
  {
   "cell_type": "code",
   "execution_count": 2,
   "metadata": {},
   "outputs": [
    {
     "data": {
      "text/plain": [
       "array([ 16,  47,  78, 109, 140, 171, 202, 233, 264, 295, 326, 357])"
      ]
     },
     "execution_count": 2,
     "metadata": {},
     "output_type": "execute_result"
    }
   ],
   "source": [
    "avg_temp = [33, 34, 40, 51, 60, 69, 75, 74, 67, 56, 47, 38]\n",
    "t = []\n",
    "# populate t table with correct days, using formula give of 16 + 31*(month enumerated)\n",
    "for i in range(0, 12):\n",
    "    t.append(16+(31*i))\n",
    "t = np.array(t)\n",
    "t"
   ]
  },
  {
   "cell_type": "code",
   "execution_count": 3,
   "metadata": {},
   "outputs": [
    {
     "name": "stdout",
     "output_type": "stream",
     "text": [
      "a0 is: 25.94178075290347\n",
      "a1 is: 0.18713946923810454\n",
      "a2 is: 0.0009576875408841001\n",
      "a3 is: -3.990504477229028e-06\n"
     ]
    }
   ],
   "source": [
    "# vstack stacks rows on top of each other, so calculate calculates the n 1->4 order terms based off t values\n",
    "# so first it stacks a row of 1s length of 12 (a0), then it stacks the next row of all the t values, (16, 47, 78...), \n",
    "# then all the t values again ^2, and again ^3, then it transposes all of it\n",
    "A = np.vstack([np.ones(len(t)), t, t**2, t**3]).T\n",
    "#print(A)\n",
    "\n",
    "\n",
    "# solve normal equation for least squares: (A^T A)x = (A^T)y\n",
    "\n",
    "#get A^T A\n",
    "ATA = A.T @ A\n",
    "# get A^T y\n",
    "ATY = A.T @ avg_temp\n",
    "\n",
    "#a(coeffs) = (X^T X)^-1 X^T y\n",
    "coefficients = np.linalg.inv(ATA) @ ATY\n",
    "\n",
    "# extract coeffs from variable\n",
    "a0, a1, a2, a3 = coefficients\n",
    "print(f\"a0 is: {a0}\")\n",
    "print(f\"a1 is: {a1}\")\n",
    "print(f\"a2 is: {a2}\")\n",
    "print(f\"a3 is: {a3}\")\n"
   ]
  },
  {
   "cell_type": "markdown",
   "metadata": {},
   "source": [
    "# Solution to 1.1 (1)\n",
    "a0 is: 25.94178075290347\n",
    "a1 is: 0.18713946923810454\n",
    "a2 is: 0.0009576875408841001\n",
    "a3 is: -3.990504477229028e-06\n"
   ]
  },
  {
   "cell_type": "code",
   "execution_count": 4,
   "metadata": {},
   "outputs": [
    {
     "name": "stdout",
     "output_type": "stream",
     "text": [
      "Temperature on june 4th will be: 63.86770803632953\n",
      "Temperature on december 25th will be: 27.076780223601105\n"
     ]
    }
   ],
   "source": [
    "# form a function that represents our new polynomial based off the coefficients we just solved for\n",
    "def polynomial(x, coefficients):\n",
    "    a0, a1, a2, a3 = coefficients\n",
    "    return (a0 + (a1*x) + (a2 * (x**2)) + (a3 * (x**3)))\n",
    "\n",
    "\n",
    "# to get june 4th date, 16 + 31 * 5 gives us june 16. since we need june 4, subtract 12 days from that. \n",
    "# 31 * 5 = 155 \n",
    "# 155 + 16 = 171\n",
    "# 171 - 12 = 159\n",
    "print(f\"Temperature on june 4th will be: {polynomial(159, coefficients)}\")\n",
    "print(f\"Temperature on december 25th will be: {polynomial(366, coefficients)}\")\n"
   ]
  },
  {
   "cell_type": "markdown",
   "metadata": {},
   "source": [
    "# Solution to 1.1 (2)\n",
    "Temperature on june 4th will be: 63.86770803632953\n",
    "Temperature on december 25th will be: 27.076780223601105\n"
   ]
  },
  {
   "cell_type": "code",
   "execution_count": 5,
   "metadata": {},
   "outputs": [
    {
     "name": "stdout",
     "output_type": "stream",
     "text": [
      "[165, 166, 167, 168, 169, 170, 171, 172, 173, 174, 175, 176, 177, 178, 179, 180, 181, 182, 183, 184, 185, 186, 187, 188, 189, 190, 191, 192, 193, 194, 195, 196, 197, 198, 199, 200, 201, 202, 203, 204, 205, 206, 207, 208, 209, 210, 211, 212, 213, 214, 215, 216, 217, 218, 219, 220, 221, 222, 223, 224, 225, 226, 227, 228, 229, 230, 231, 232, 233, 234, 235, 236, 237, 238, 239, 240, 241, 242, 243, 244, 245, 246, 247, 248, 249, 250, 251, 252, 253, 254, 255, 256, 257, 258, 259, 260, 261, 262, 263, 264, 265, 266, 267, 268, 269, 270, 271, 272, 273, 274, 275, 276, 277, 278, 279, 280, 281, 282, 283, 284]\n",
      "Day 165 has a temperature of: 64.96699155298789\n",
      "Day 166 has a temperature of: 65.14322185486026\n",
      "Day 167 has a temperature of: 65.31739298935506\n",
      "Day 168 has a temperature of: 65.48948101344544\n",
      "Day 169 has a temperature of: 65.65946198410455\n",
      "Day 170 has a temperature of: 65.82731195830553\n",
      "Day 171 has a temperature of: 65.99300699302148\n",
      "Day 172 has a temperature of: 66.15652314522558\n",
      "Day 173 has a temperature of: 66.31783647189094\n",
      "Day 174 has a temperature of: 66.47692302999072\n",
      "Day 175 has a temperature of: 66.633758876498\n",
      "Day 176 has a temperature of: 66.78832006838599\n",
      "Day 177 has a temperature of: 66.94058266262779\n",
      "Day 178 has a temperature of: 67.09052271619655\n",
      "Day 179 has a temperature of: 67.23811628606538\n",
      "Day 180 has a temperature of: 67.38333942920744\n",
      "Day 181 has a temperature of: 67.52616820259587\n",
      "Day 182 has a temperature of: 67.66657866320378\n",
      "Day 183 has a temperature of: 67.80454686800434\n",
      "Day 184 has a temperature of: 67.94004887397065\n",
      "Day 185 has a temperature of: 68.0730607380759\n",
      "Day 186 has a temperature of: 68.20355851729317\n",
      "Day 187 has a temperature of: 68.33151826859563\n",
      "Day 188 has a temperature of: 68.4569160489564\n",
      "Day 189 has a temperature of: 68.57972791534863\n",
      "Day 190 has a temperature of: 68.69992992474545\n",
      "Day 191 has a temperature of: 68.81749813411997\n",
      "Day 192 has a temperature of: 68.9324086004454\n",
      "Day 193 has a temperature of: 69.0446373806948\n",
      "Day 194 has a temperature of: 69.15416053184134\n",
      "Day 195 has a temperature of: 69.26095411085818\n",
      "Day 196 has a temperature of: 69.3649941747184\n",
      "Day 197 has a temperature of: 69.46625678039518\n",
      "Day 198 has a temperature of: 69.56471798486164\n",
      "Day 199 has a temperature of: 69.66035384509092\n",
      "Day 200 has a temperature of: 69.75314041805616\n",
      "Day 201 has a temperature of: 69.8430537607305\n",
      "Day 202 has a temperature of: 69.93006993008706\n",
      "Day 203 has a temperature of: 70.01416498309898\n",
      "Day 204 has a temperature of: 70.09531497673942\n",
      "Day 205 has a temperature of: 70.17349596798148\n",
      "Day 206 has a temperature of: 70.24868401379834\n",
      "Day 207 has a temperature of: 70.32085517116309\n",
      "Day 208 has a temperature of: 70.3899854970489\n",
      "Day 209 has a temperature of: 70.45605104842889\n",
      "Day 210 has a temperature of: 70.51902788227622\n",
      "Day 211 has a temperature of: 70.57889205556398\n",
      "Day 212 has a temperature of: 70.63561962526538\n",
      "Day 213 has a temperature of: 70.68918664835346\n",
      "Day 214 has a temperature of: 70.73956918180144\n",
      "Day 215 has a temperature of: 70.78674328258242\n",
      "Day 216 has a temperature of: 70.83068500766956\n",
      "Day 217 has a temperature of: 70.87137041403597\n",
      "Day 218 has a temperature of: 70.90877555865478\n",
      "Day 219 has a temperature of: 70.94287649849916\n",
      "Day 220 has a temperature of: 70.97364929054223\n",
      "Day 221 has a temperature of: 71.0010699917571\n",
      "Day 222 has a temperature of: 71.02511465911695\n",
      "Day 223 has a temperature of: 71.04575934959493\n",
      "Day 224 has a temperature of: 71.0629801201641\n",
      "Day 225 has a temperature of: 71.07675302779768\n",
      "Day 226 has a temperature of: 71.08705412946873\n",
      "Day 227 has a temperature of: 71.09385948215044\n",
      "Day 228 has a temperature of: 71.09714514281595\n",
      "Day 229 has a temperature of: 71.09688716843836\n",
      "Day 230 has a temperature of: 71.09306161599082\n",
      "Day 231 has a temperature of: 71.08564454244649\n",
      "Day 232 has a temperature of: 71.07461200477849\n",
      "Day 233 has a temperature of: 71.05994005995993\n",
      "Day 234 has a temperature of: 71.041604764964\n",
      "Day 235 has a temperature of: 71.01958217676378\n",
      "Day 236 has a temperature of: 70.99384835233246\n",
      "Day 237 has a temperature of: 70.96437934864315\n",
      "Day 238 has a temperature of: 70.931151222669\n",
      "Day 239 has a temperature of: 70.8941400313831\n",
      "Day 240 has a temperature of: 70.85332183175865\n",
      "Day 241 has a temperature of: 70.80867268076875\n",
      "Day 242 has a temperature of: 70.76016863538655\n",
      "Day 243 has a temperature of: 70.70778575258517\n",
      "Day 244 has a temperature of: 70.65150008933776\n",
      "Day 245 has a temperature of: 70.59128770261745\n",
      "Day 246 has a temperature of: 70.52712464939738\n",
      "Day 247 has a temperature of: 70.45898698665073\n",
      "Day 248 has a temperature of: 70.38685077135057\n",
      "Day 249 has a temperature of: 70.31069206047003\n",
      "Day 250 has a temperature of: 70.23048691098231\n",
      "Day 251 has a temperature of: 70.14621137986049\n",
      "Day 252 has a temperature of: 70.05784152407776\n",
      "Day 253 has a temperature of: 69.96535340060723\n",
      "Day 254 has a temperature of: 69.86872306642199\n",
      "Day 255 has a temperature of: 69.76792657849526\n",
      "Day 256 has a temperature of: 69.66293999380014\n",
      "Day 257 has a temperature of: 69.55373936930974\n",
      "Day 258 has a temperature of: 69.44030076199724\n",
      "Day 259 has a temperature of: 69.32260022883577\n",
      "Day 260 has a temperature of: 69.20061382679843\n",
      "Day 261 has a temperature of: 69.07431761285837\n",
      "Day 262 has a temperature of: 68.94368764398877\n",
      "Day 263 has a temperature of: 68.80869997716272\n",
      "Day 264 has a temperature of: 68.66933066935339\n",
      "Day 265 has a temperature of: 68.52555577753387\n",
      "Day 266 has a temperature of: 68.3773513586773\n",
      "Day 267 has a temperature of: 68.2246934697569\n",
      "Day 268 has a temperature of: 68.06755816774572\n",
      "Day 269 has a temperature of: 67.9059215096169\n",
      "Day 270 has a temperature of: 67.73975955234364\n",
      "Day 271 has a temperature of: 67.56904835289903\n",
      "Day 272 has a temperature of: 67.3937639682562\n",
      "Day 273 has a temperature of: 67.2138824553883\n",
      "Day 274 has a temperature of: 67.02937987126846\n",
      "Day 275 has a temperature of: 66.84023227286986\n",
      "Day 276 has a temperature of: 66.64641571716557\n",
      "Day 277 has a temperature of: 66.44790626112878\n",
      "Day 278 has a temperature of: 66.24467996173259\n",
      "Day 279 has a temperature of: 66.03671287595013\n",
      "Day 280 has a temperature of: 65.82398106075459\n",
      "Day 281 has a temperature of: 65.60646057311905\n",
      "Day 282 has a temperature of: 65.38412747001667\n",
      "Day 283 has a temperature of: 65.15695780842059\n",
      "Day 284 has a temperature of: 64.92492764530395\n"
     ]
    }
   ],
   "source": [
    "# now to calculate when temperature we be 64.89\n",
    "#there are 372 days in this kind of year\n",
    "days = []\n",
    "\n",
    "#loop through all the days, calculate the temperature, and then add day to days if temperature is 64.89 or greater\n",
    "for i in range(0, 372):\n",
    "    if((polynomial(i, coefficients) - 64.89) > 0.01):\n",
    "        days.append(i)\n",
    "\n",
    "print(days)\n",
    "\n",
    "#see when days transition temperature\n",
    "for day in days:\n",
    "    print(f\"Day {day} has a temperature of: {polynomial(day, coefficients)}\")"
   ]
  },
  {
   "cell_type": "code",
   "execution_count": null,
   "metadata": {},
   "outputs": [
    {
     "name": "stdout",
     "output_type": "stream",
     "text": [
      "X root 1 = 164.5625, temperature of : 64.88924940158167\n",
      "X root 2 = 284.14453125, temperature of : 64.89098860678732\n",
      "Transition from days 164-165 and days 284-285 is when temperature becomes 64.89\n"
     ]
    }
   ],
   "source": [
    "# use bisection method to find exact points after finding the general areas to search using previous for loop\n",
    "bisection_iteration_count = 0\n",
    "def Bisection(a, b, tolerance, coefficients, target_temp=64.89):\n",
    "    global bisection_iteration_count\n",
    "    c = 0\n",
    "    \n",
    "    while ((b - a) / 2) > tolerance:\n",
    "        bisection_iteration_count += 1\n",
    "        #calc midpoint\n",
    "        c = (b + a) / 2\n",
    "        \n",
    "        # calc polymials and use target temp as stopping point\n",
    "        f_a = polynomial(a, coefficients) - target_temp\n",
    "        f_c = polynomial(c, coefficients) - target_temp\n",
    "        \n",
    "        # check if close enough to 64.89\n",
    "        if abs(f_c) < tolerance:\n",
    "            return c\n",
    "        \n",
    "        # determine which way to go\n",
    "        if f_a * f_c < 0:\n",
    "            b = c\n",
    "        else:\n",
    "            a = c\n",
    "    \n",
    "    # return final midpoint\n",
    "    return c\n",
    "\n",
    "\n",
    "print(f\"X root 1 = {Bisection(163, 167, 1e-3, coefficients)}, temperature of : {polynomial(164.5625, coefficients)}\")\n",
    "print(f\"X root 2 = {Bisection(282, 285, 1e-3, coefficients)}, temperature of : {polynomial(284.14453125, coefficients)}\")\n",
    "\n",
    "print(\"Transition from days 164-165 and days 284-285 is when temperature becomes 64.89\")"
   ]
  },
  {
   "cell_type": "markdown",
   "metadata": {},
   "source": [
    "# Solution to 1.1 (3)\n",
    "X root 1 = 164.5625, temperature of : 64.88924940158167\n",
    "X root 2 = 284.14453125, temperature of : 64.89098860678732\n",
    "Transition from days 164-165 and days 284-285 is when temperature becomes 64.89"
   ]
  },
  {
   "cell_type": "markdown",
   "metadata": {},
   "source": []
  }
 ],
 "metadata": {
  "kernelspec": {
   "display_name": "base",
   "language": "python",
   "name": "python3"
  },
  "language_info": {
   "codemirror_mode": {
    "name": "ipython",
    "version": 3
   },
   "file_extension": ".py",
   "mimetype": "text/x-python",
   "name": "python",
   "nbconvert_exporter": "python",
   "pygments_lexer": "ipython3",
   "version": "3.11.5"
  }
 },
 "nbformat": 4,
 "nbformat_minor": 2
}
