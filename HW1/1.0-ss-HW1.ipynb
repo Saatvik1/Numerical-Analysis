{
 "cells": [
  {
   "attachments": {},
   "cell_type": "markdown",
   "metadata": {},
   "source": [
    "Saatvik Sandal 114378631"
   ]
  },
  {
   "cell_type": "code",
   "execution_count": 1,
   "metadata": {},
   "outputs": [],
   "source": [
    "import pandas as pd\n",
    "import numpy as np\n",
    "import matplotlib as mp\n",
    "import math as math\n",
    "import matplotlib.pyplot as plt\n",
    "\n"
   ]
  },
  {
   "cell_type": "code",
   "execution_count": 2,
   "metadata": {},
   "outputs": [],
   "source": [
    "def f(x):\n",
    "    return (np.exp(-x**3) - (x**4) - (np.sin(x)))\n",
    "\n",
    "def f_prime(x):\n",
    "    return ((-3 * np.exp(-x**3) * (x**2)) - (4 * (x**3)) - np.cos(x))"
   ]
  },
  {
   "attachments": {},
   "cell_type": "markdown",
   "metadata": {},
   "source": [
    "# 1.1 Method 1: Bisection"
   ]
  },
  {
   "cell_type": "code",
   "execution_count": 3,
   "metadata": {},
   "outputs": [
    {
     "name": "stdout",
     "output_type": "stream",
     "text": [
      "Xc = 0.6415825419826433\n",
      "Number of iteration counts for Bisection is: 34\n",
      "There 19 floating point operations required each iteration, so in total 646 floating point operations\n"
     ]
    }
   ],
   "source": [
    "bisection_iteration_count = 0\n",
    "def Bisection(a, b, tolerance):\n",
    "    global bisection_iteration_count\n",
    "    c = 0\n",
    "    # calc difference and see if bisection area is too small\n",
    "    while(((b-a) / 2) > tolerance):\n",
    "        bisection_iteration_count += 1\n",
    "        # find mid point\n",
    "        c = (b+a) / 2\n",
    "\n",
    "        # test if points is root\n",
    "        test = f(a) * f(c)\n",
    "\n",
    "        #check for break, if above then take the lower half, else the higher half, else return\n",
    "        if(test < 0):\n",
    "            b = c\n",
    "        elif(test > 0):\n",
    "            a = c\n",
    "        else:\n",
    "            return c\n",
    "    \n",
    "    return c\n",
    "\n",
    "print(f\"Xc = {Bisection(-1, 1, 1e-10)}\")\n",
    "print(f\"Number of iteration counts for Bisection is: {bisection_iteration_count}\")\n",
    "# 7 fp operations in f(x), per loop in bisection, there is 19, incuding f(x)\n",
    "print(f\"There 19 floating point operations required each iteration, so in total {19 * bisection_iteration_count} floating point operations\")"
   ]
  },
  {
   "attachments": {},
   "cell_type": "markdown",
   "metadata": {},
   "source": [
    "# 1.1 Method 2: Newton"
   ]
  },
  {
   "cell_type": "code",
   "execution_count": 4,
   "metadata": {},
   "outputs": [
    {
     "name": "stdout",
     "output_type": "stream",
     "text": [
      "Xc = 0.6415825512515503\n",
      "Number of iteration counts for Newton is: 6\n",
      "There 19 floating point operations required each iteration, so in total 114 floating point operations\n"
     ]
    }
   ],
   "source": [
    "newton_iteration_count = 0\n",
    "def Newton(x0, tolerance = 1e-5):\n",
    "    global newton_iteration_count\n",
    "    newton_iteration_count += 1\n",
    "    # if x0 gets close enough\n",
    "    if abs(x0 - 0.641583) <= tolerance:\n",
    "        return x0\n",
    "    #print(x0)\n",
    "    #call newton forumala recursively\n",
    "    return Newton(x0 - (f(x0) / f_prime(x0)))\n",
    "\n",
    "print(f\"Xc = {Newton(0)}\")\n",
    "print(f\"Number of iteration counts for Newton is: {newton_iteration_count}\")\n",
    "#f(x) has 7 fp, f_prime(x) has 10, so every loop in newton has 7 + 10 + 1 + 1 = 19\n",
    "print(f\"There 19 floating point operations required each iteration, so in total {19 * newton_iteration_count} floating point operations\")"
   ]
  },
  {
   "attachments": {},
   "cell_type": "markdown",
   "metadata": {},
   "source": [
    "# 1.1 Method 3: Secant Method"
   ]
  },
  {
   "cell_type": "code",
   "execution_count": 5,
   "metadata": {},
   "outputs": [
    {
     "name": "stdout",
     "output_type": "stream",
     "text": [
      "0.6415908941839591\n",
      "Xc = 0.6415908941839591\n",
      "Number of iteration counts for Secant is: 7\n",
      "There 26 floating point operations required each iteration, so in total 182 floating point operations\n"
     ]
    }
   ],
   "source": [
    "secant_iteration_count = 0\n",
    "def Secant(x0, x1, tolerance = 1e-5):\n",
    "    global secant_iteration_count\n",
    "    secant_iteration_count += 1\n",
    "\n",
    "    # if x1 gets to desirable limits\n",
    "    if abs(x1 - 0.641583) <= tolerance:\n",
    "        print(x1)\n",
    "        return x1\n",
    "    \n",
    "    # calculate xi+1 and then recursively call secant method\n",
    "    xipo = x1 - ((x1 - x0) * (f(x1) / (f(x1) - f(x0))))\n",
    "    return Secant(x1, xipo)\n",
    "\n",
    "print(f\"Xc = {Secant(-1, 1)}\")\n",
    "print(f\"Number of iteration counts for Secant is: {secant_iteration_count}\")\n",
    "#f(x) has 7 fp, ever loop in secant has 26 total including f(x)\n",
    "print(f\"There 26 floating point operations required each iteration, so in total {26 * secant_iteration_count} floating point operations\")"
   ]
  },
  {
   "attachments": {},
   "cell_type": "markdown",
   "metadata": {},
   "source": [
    "# 1.1 Method 4: Monte Carlo method"
   ]
  },
  {
   "cell_type": "code",
   "execution_count": 6,
   "metadata": {},
   "outputs": [
    {
     "name": "stdout",
     "output_type": "stream",
     "text": [
      "Xc = 0.6415369355747612\n",
      "Number of times we sampled the uniform distribution is 10000\n",
      "f(x) has 7 floating point operations, and we applied that to all 10000 samples, so 70,000 floating point operations. Monte has atleast 70,000 floating point operations in this specific instance.\n"
     ]
    }
   ],
   "source": [
    "def Monte(range_low, range_high, samples= 10000): \n",
    "\n",
    "    # draw from uniform distribution given limits and # of samples\n",
    "    uniform_dist = np.random.uniform(range_low, range_high, samples)\n",
    "\n",
    "    #calculate y vals given random x from prior line\n",
    "    y_vals = np.abs(f(uniform_dist))\n",
    "\n",
    "    #find the minium of the y vals, then match the index to extract the x value then return it\n",
    "    xc = uniform_dist[np.argmin(y_vals)]\n",
    "\n",
    "    return xc\n",
    "\n",
    "print(f\"Xc = {Monte(0.5, 0.75)}\")\n",
    "print(\"Number of times we sampled the uniform distribution is 10000\")\n",
    "print(\"f(x) has 7 floating point operations, and we applied that to all 10000 samples, so 70,000 floating point operations. Monte has atleast 70,000 floating point operations in this specific instance.\")"
   ]
  },
  {
   "attachments": {},
   "cell_type": "markdown",
   "metadata": {},
   "source": [
    "# 1.2 Polynomial Interpolation"
   ]
  },
  {
   "cell_type": "code",
   "execution_count": 7,
   "metadata": {},
   "outputs": [
    {
     "name": "stdout",
     "output_type": "stream",
     "text": [
      "Lagrange P(6) = 452.0\n"
     ]
    }
   ],
   "source": [
    "t = np.array([1, 2, 3, 4, 5])\n",
    "y = np.array([412, 407, 397, 398, 417])\n",
    "inner_loop = 0\n",
    "outer_loop = 0\n",
    "\n",
    "def Lagrange(t_num, t, y):\n",
    "    global inner_loop\n",
    "    global outer_loop\n",
    "\n",
    "\n",
    "    n = len(t)\n",
    "    P_t = 0\n",
    "    \n",
    "    # loop over the data points\n",
    "    for i in range(n):\n",
    "        outer_loop+=1\n",
    "        L_i = 1\n",
    "        # Compte Li(t)\n",
    "        for j in range(n):\n",
    "            inner_loop+=1\n",
    "            # skip current term\n",
    "            if i != j:\n",
    "                L_i *= (t_num - t[j]) / (t[i] - t[j])\n",
    "        #add term to polynomial\n",
    "        P_t += y[i] * L_i\n",
    "\n",
    "    return P_t\n",
    "\n",
    "p6_manual = Lagrange(6, t, y)\n",
    "print(f\"Lagrange P(6) = {p6_manual}\")\n"
   ]
  },
  {
   "attachments": {},
   "cell_type": "markdown",
   "metadata": {},
   "source": [
    "# 1.2 Quadratic Fit"
   ]
  },
  {
   "cell_type": "code",
   "execution_count": 8,
   "metadata": {},
   "outputs": [
    {
     "name": "stdout",
     "output_type": "stream",
     "text": [
      "Quadratic Q(6) = 436.00\n"
     ]
    }
   ],
   "source": [
    "# create A values\n",
    "n = len(t)\n",
    "sum_t = np.sum(t)\n",
    "sum_t2 = np.sum(t**2)\n",
    "sum_t3 = np.sum(t**3)\n",
    "sum_t4 = np.sum(t**4)\n",
    "\n",
    "# create B values\n",
    "sum_y = np.sum(y)\n",
    "sum_ty = np.sum(t * y)\n",
    "sum_t2y = np.sum(t**2 * y)\n",
    "\n",
    "# form matrix for normal SOE solving\n",
    "A = np.array([[n, sum_t, sum_t2],\n",
    "              [sum_t, sum_t2, sum_t3],\n",
    "              [sum_t2, sum_t3, sum_t4]])\n",
    "\n",
    "B = np.array([sum_y, sum_ty, sum_t2y])\n",
    "\n",
    "# solve for coefficients\n",
    "coeffs = np.linalg.solve(A, B)\n",
    "c0, c1, c2 = coeffs\n",
    "\n",
    "q6_manual = c0 + c1*6 + c2*(6**2)\n",
    "print(f\"Quadratic Q(6) = {q6_manual:.2f}\")"
   ]
  },
  {
   "cell_type": "code",
   "execution_count": null,
   "metadata": {},
   "outputs": [],
   "source": []
  }
 ],
 "metadata": {
  "kernelspec": {
   "display_name": "base",
   "language": "python",
   "name": "python3"
  },
  "language_info": {
   "codemirror_mode": {
    "name": "ipython",
    "version": 3
   },
   "file_extension": ".py",
   "mimetype": "text/x-python",
   "name": "python",
   "nbconvert_exporter": "python",
   "pygments_lexer": "ipython3",
   "version": "3.11.5"
  }
 },
 "nbformat": 4,
 "nbformat_minor": 2
}
