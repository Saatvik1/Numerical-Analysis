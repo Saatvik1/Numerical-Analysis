{
 "cells": [
  {
   "attachments": {},
   "cell_type": "markdown",
   "metadata": {},
   "source": [
    "Saatvik Sandal 114378631"
   ]
  },
  {
   "cell_type": "code",
   "execution_count": 2,
   "metadata": {},
   "outputs": [],
   "source": [
    "import pandas as pd\n",
    "import numpy as np\n",
    "import matplotlib as mp\n",
    "import math as math\n",
    "import matplotlib.pyplot as plt\n",
    "\n"
   ]
  },
  {
   "cell_type": "code",
   "execution_count": 9,
   "metadata": {},
   "outputs": [],
   "source": [
    "def f(x):\n",
    "    return (np.exp(-x**3) - (x**4) - (np.sin(x)))\n",
    "\n",
    "def f_prime(x):\n",
    "    return ((-3 * np.exp(-x**3) * (x**2)) - (4 * (x**3)) - np.cos(x))"
   ]
  },
  {
   "cell_type": "code",
   "execution_count": 4,
   "metadata": {},
   "outputs": [
    {
     "data": {
      "image/png": "[encoded data removed]",
      "text/plain": [
       "<Figure size 800x500 with 1 Axes>"
      ]
     },
     "metadata": {},
     "output_type": "display_data"
    }
   ],
   "source": [
    "x = np.linspace(-2, 2, 400)\n",
    "y = f(x)\n",
    "\n",
    "\n",
    "# Create the plot\n",
    "plt.figure(figsize=(8, 5))\n",
    "plt.plot(x, y, label=r\"$f(x) = e^{-x^3} - x^4 - \\sin x$\", color='b')\n",
    "\n",
    "# Highlighting x and y axes\n",
    "plt.axhline(0, color='black', linewidth=0.8, linestyle=\"--\")\n",
    "plt.axvline(0, color='black', linewidth=0.8, linestyle=\"--\")\n",
    "\n",
    "# Adjust y-limits dynamically\n",
    "plt.ylim(-15, 15)\n",
    "\n",
    "# Improve visualization\n",
    "plt.title(\"Plot of $f(x)$\", fontsize=14)\n",
    "plt.xlabel(\"x\", fontsize=12)\n",
    "plt.ylabel(\"f(x)\", fontsize=12)\n",
    "plt.legend()\n",
    "plt.grid(True)\n",
    "\n",
    "# Show the plot\n",
    "plt.show()"
   ]
  },
  {
   "attachments": {},
   "cell_type": "markdown",
   "metadata": {},
   "source": [
    "# 1.1 Method 1: Bisection"
   ]
  },
  {
   "cell_type": "code",
   "execution_count": 13,
   "metadata": {},
   "outputs": [
    {
     "name": "stdout",
     "output_type": "stream",
     "text": [
      "Xc = 0.6415825419826433\n",
      "Number of iteration counts for Bisection is: 34\n",
      "There 19 floating point operations required each iteration, so in total 646 floating point operations\n"
     ]
    }
   ],
   "source": [
    "bisection_iteration_count = 0\n",
    "def Bisection(a, b, tolerance):\n",
    "    global bisection_iteration_count\n",
    "    c = 0\n",
    "    while(((b-a) / 2) > tolerance):\n",
    "        bisection_iteration_count += 1\n",
    "        c = (b+a) / 2\n",
    "        test = f(a) * f(c)\n",
    "\n",
    "        if(test < 0):\n",
    "            b = c\n",
    "        elif(test > 0):\n",
    "            a = c\n",
    "        else:\n",
    "            return c\n",
    "    \n",
    "    return c\n",
    "\n",
    "print(f\"Xc = {Bisection(-1, 1, 1e-10)}\")\n",
    "print(f\"Number of iteration counts for Bisection is: {bisection_iteration_count}\")\n",
    "# 7 fp operations in f(x), per loop in bisection, there is 19, incuding f(x)\n",
    "print(f\"There 19 floating point operations required each iteration, so in total {19 * bisection_iteration_count} floating point operations\")"
   ]
  },
  {
   "attachments": {},
   "cell_type": "markdown",
   "metadata": {},
   "source": [
    "# 1.1 Method 2: Newton"
   ]
  },
  {
   "cell_type": "code",
   "execution_count": 17,
   "metadata": {},
   "outputs": [
    {
     "name": "stdout",
     "output_type": "stream",
     "text": [
      "Xc = 0.6415825512515503\n",
      "Number of iteration counts for Bisection is: 6\n",
      "There 19 floating point operations required each iteration, so in total 114 floating point operations\n"
     ]
    }
   ],
   "source": [
    "newton_iteration_count = 0\n",
    "def Newton(x0, tolerance = 1e-5):\n",
    "    global newton_iteration_count\n",
    "    newton_iteration_count += 1\n",
    "    if abs(x0 - 0.641583) <= tolerance:\n",
    "        return x0\n",
    "    #print(x0)\n",
    "    return Newton(x0 - (f(x0) / f_prime(x0)))\n",
    "\n",
    "print(f\"Xc = {Newton(0)}\")\n",
    "print(f\"Number of iteration counts for Newton is: {newton_iteration_count}\")\n",
    "#f(x) has 7 fp, f_prime(x) has 10, so every loop in newton has 7 + 10 + 1 + 1 = 19\n",
    "print(f\"There 19 floating point operations required each iteration, so in total {19 * newton_iteration_count} floating point operations\")"
   ]
  },
  {
   "attachments": {},
   "cell_type": "markdown",
   "metadata": {},
   "source": [
    "# 1.1 Method 3: Secant Method"
   ]
  },
  {
   "cell_type": "code",
   "execution_count": 21,
   "metadata": {},
   "outputs": [
    {
     "name": "stdout",
     "output_type": "stream",
     "text": [
      "0.6415908941839591\n",
      "Xc = 0.6415908941839591\n",
      "Number of iteration counts for Bisection is: 7\n",
      "There 26 floating point operations required each iteration, so in total 182 floating point operations\n"
     ]
    }
   ],
   "source": [
    "secant_iteration_count = 0\n",
    "def Secant(x0, x1, tolerance = 1e-5):\n",
    "    global secant_iteration_count\n",
    "    secant_iteration_count += 1\n",
    "\n",
    "    if abs(x1 - 0.641583) <= tolerance:\n",
    "        print(x1)\n",
    "        return x1\n",
    "    xipo = x1 - ((x1 - x0) * (f(x1) / (f(x1) - f(x0))))\n",
    "    return Secant(x1, xipo)\n",
    "\n",
    "print(f\"Xc = {Secant(-1, 1)}\")\n",
    "print(f\"Number of iteration counts for Secant is: {secant_iteration_count}\")\n",
    "#f(x) has 7 fp, ever loop in secant has 26 total including f(x)\n",
    "print(f\"There 26 floating point operations required each iteration, so in total {26 * secant_iteration_count} floating point operations\")"
   ]
  },
  {
   "attachments": {},
   "cell_type": "markdown",
   "metadata": {},
   "source": [
    "# 1.1 Method 4: Monte Carlo method"
   ]
  },
  {
   "cell_type": "code",
   "execution_count": 22,
   "metadata": {},
   "outputs": [
    {
     "name": "stdout",
     "output_type": "stream",
     "text": [
      "Xc = 0.6415842843599304\n",
      "Number of times we sampled the uniform distribution is 10000\n",
      "f(x) has 7 floating point operations, and we applied that to all 10000 samples, so 70,000 floating point operations. Monte has atleast 70,000 floating point operations in this specific instance.\n"
     ]
    }
   ],
   "source": [
    "def Monte(range_low, range_high, samples= 10000): \n",
    "\n",
    "    uniform_dist = np.random.uniform(range_low, range_high, samples)\n",
    "\n",
    "    y_vals = np.abs(f(uniform_dist))\n",
    "\n",
    "    xc = uniform_dist[np.argmin(y_vals)]\n",
    "\n",
    "    return xc\n",
    "\n",
    "print(f\"Xc = {Monte(0.5, 0.75)}\")\n",
    "print(\"Number of times we sampled the uniform distribution is 10000\")\n",
    "print(\"f(x) has 7 floating point operations, and we applied that to all 10000 samples, so 70,000 floating point operations. Monte has atleast 70,000 floating point operations in this specific instance.\")"
   ]
  },
  {
   "attachments": {},
   "cell_type": "markdown",
   "metadata": {},
   "source": [
    "# 1.2 Polynomial Interpolation"
   ]
  },
  {
   "attachments": {},
   "cell_type": "markdown",
   "metadata": {},
   "source": []
  }
 ],
 "metadata": {
  "kernelspec": {
   "display_name": "Python 3",
   "language": "python",
   "name": "python3"
  },
  "language_info": {
   "codemirror_mode": {
    "name": "ipython",
    "version": 3
   },
   "file_extension": ".py",
   "mimetype": "text/x-python",
   "name": "python",
   "nbconvert_exporter": "python",
   "pygments_lexer": "ipython3",
   "version": "3.11.3"
  }
 },
 "nbformat": 4,
 "nbformat_minor": 2
}
