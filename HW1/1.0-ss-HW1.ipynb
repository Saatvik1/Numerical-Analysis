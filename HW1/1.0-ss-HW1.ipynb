{
 "cells": [
  {
   "cell_type": "markdown",
   "metadata": {},
   "source": [
    "Saatvik Sandal 114378631"
   ]
  },
  {
   "cell_type": "code",
   "execution_count": 5,
   "metadata": {},
   "outputs": [],
   "source": [
    "import pandas as pd\n",
    "import numpy as np\n",
    "import matplotlib as mp\n",
    "import math as math\n",
    "import matplotlib.pyplot as plt\n",
    "\n"
   ]
  },
  {
   "cell_type": "code",
   "execution_count": 9,
   "metadata": {},
   "outputs": [],
   "source": [
    "def f(x):\n",
    "    return (np.exp(-x**3) - (x**4) - (np.sin(x)))"
   ]
  },
  {
   "cell_type": "code",
   "execution_count": null,
   "metadata": {},
   "outputs": [
    {
     "name": "stdout",
     "output_type": "stream",
     "text": [
      "Min y: -16.90896196419778 Max y: 2965.867284468554\n"
     ]
    },
    {
     "data": {
      "image/png": "[encoded data removed]",
      "text/plain": [
       "<Figure size 576x360 with 1 Axes>"
      ]
     },
     "metadata": {
      "needs_background": "light"
     },
     "output_type": "display_data"
    }
   ],
   "source": [
    "x = np.linspace(-2, 2, 400)\n",
    "y = f(x)\n",
    "\n",
    "\n",
    "# Create the plot\n",
    "plt.figure(figsize=(8, 5))\n",
    "plt.plot(x, y, label=r\"$f(x) = e^{-x^3} - x^4 - \\sin x$\", color='b')\n",
    "\n",
    "# Highlighting x and y axes\n",
    "plt.axhline(0, color='black', linewidth=0.8, linestyle=\"--\")\n",
    "plt.axvline(0, color='black', linewidth=0.8, linestyle=\"--\")\n",
    "\n",
    "# Adjust y-limits dynamically\n",
    "plt.ylim(-15, 15)\n",
    "\n",
    "# Improve visualization\n",
    "plt.title(\"Plot of $f(x)$\", fontsize=14)\n",
    "plt.xlabel(\"x\", fontsize=12)\n",
    "plt.ylabel(\"f(x)\", fontsize=12)\n",
    "plt.legend()\n",
    "plt.grid(True)\n",
    "\n",
    "# Show the plot\n",
    "plt.show()"
   ]
  },
  {
   "cell_type": "code",
   "execution_count": 19,
   "metadata": {},
   "outputs": [
    {
     "data": {
      "text/plain": [
       "0.6415825419826433"
      ]
     },
     "execution_count": 19,
     "metadata": {},
     "output_type": "execute_result"
    }
   ],
   "source": [
    "def Bisection(a, b, tolerance):\n",
    "    c = 0\n",
    "    while(((b-a) / 2) > tolerance):\n",
    "        c = (b+a) / 2\n",
    "        test = f(a) * f(c)\n",
    "\n",
    "        if(test < 0):\n",
    "            b = c\n",
    "        elif(test > 0):\n",
    "            a = c\n",
    "        else:\n",
    "            return c\n",
    "    \n",
    "    return c\n",
    "\n",
    "Bisection(-1, 1, 1e-10)\n"
   ]
  },
  {
   "cell_type": "code",
   "execution_count": null,
   "metadata": {},
   "outputs": [],
   "source": []
  }
 ],
 "metadata": {
  "kernelspec": {
   "display_name": "Python 3",
   "language": "python",
   "name": "python3"
  },
  "language_info": {
   "codemirror_mode": {
    "name": "ipython",
    "version": 3
   },
   "file_extension": ".py",
   "mimetype": "text/x-python",
   "name": "python",
   "nbconvert_exporter": "python",
   "pygments_lexer": "ipython3",
   "version": "3.9.7"
  }
 },
 "nbformat": 4,
 "nbformat_minor": 2
}
