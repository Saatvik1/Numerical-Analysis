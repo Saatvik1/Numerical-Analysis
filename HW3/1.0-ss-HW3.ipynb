{
 "cells": [
  {
   "cell_type": "code",
   "execution_count": 5,
   "metadata": {},
   "outputs": [],
   "source": [
    "import pandas as pd\n",
    "import numpy as np\n",
    "import matplotlib as mp\n",
    "import math as math\n",
    "import matplotlib.pyplot as plt"
   ]
  },
  {
   "cell_type": "markdown",
   "metadata": {},
   "source": [
    "# Question 1"
   ]
  },
  {
   "cell_type": "code",
   "execution_count": 11,
   "metadata": {},
   "outputs": [],
   "source": [
    "def buffon(disc_diameters):\n",
    "    num_tosses=4444444\n",
    "    line_spacing=1\n",
    "\n",
    "    results = {}\n",
    "    \n",
    "    # Loop through each disc diameter\n",
    "    for diameter in disc_diameters:\n",
    "        radius = diameter / 2\n",
    "        line_crossings = {}\n",
    "\n",
    "        # keep track of 5 lines\n",
    "        #cross_counts = np.zeros(10)\n",
    "        cross_counts = {i: 0 for i in range(10)}\n",
    "        \n",
    "        # Run Monte Carlo simulation\n",
    "        for _ in range(num_tosses):\n",
    "            # randomly place the center of the disk based on the line space size\n",
    "            center_y = np.random.random() * line_spacing\n",
    "            \n",
    "            # dtermine how far the disk reaches \n",
    "            lower_extent = center_y - radius\n",
    "            upper_extent = center_y + radius\n",
    "            \n",
    "            # count to keep track of how many lines are crossed\n",
    "            lines_crossed = 0\n",
    "            \n",
    "            # check lower line\n",
    "            if lower_extent <= 0:\n",
    "                lines_crossed += 1\n",
    "                \n",
    "            # check top ine\n",
    "            if upper_extent >= line_spacing:\n",
    "                lines_crossed += 1\n",
    "                \n",
    "            # check any other lines above \n",
    "            line_pos = 2 * line_spacing\n",
    "            while upper_extent >= line_pos:\n",
    "                lines_crossed += 1\n",
    "                line_pos += line_spacing\n",
    "                \n",
    "            # check lines below\n",
    "            line_pos = -line_spacing\n",
    "            while lower_extent <= line_pos:\n",
    "                lines_crossed += 1\n",
    "                line_pos -= line_spacing\n",
    "                \n",
    "            # increment count in dict for the cross lines count \n",
    "            cross_counts[lines_crossed] += 1\n",
    "            \n",
    "        # and then calculate the probabilities\n",
    "        # for i in range(len(cross_counts)):\n",
    "        #     if cross_counts[i] > 0:\n",
    "        #         line_crossings[i] = cross_counts[i] / num_tosses\n",
    "\n",
    "        # for key, value in cross_counts.items():\n",
    "        #     if(value == 0):\n",
    "        #         cross_counts.pop(key)\n",
    "        #         continue\n",
    "        #     cross_counts[key] = cross_counts[key] / num_tosses\n",
    "\n",
    "        for key in list(cross_counts.keys()):\n",
    "            if cross_counts[key] == 0:\n",
    "                cross_counts.pop(key)\n",
    "            else:\n",
    "                cross_counts[key] /= num_tosses\n",
    "                \n",
    "        results[diameter] = cross_counts\n",
    "        \n",
    "    return results"
   ]
  },
  {
   "cell_type": "code",
   "execution_count": 12,
   "metadata": {},
   "outputs": [],
   "source": [
    "disc_diameters = [0.1, 0.2, 0.3, 0.4, 0.5, 0.6, 0.7, 0.8, 0.9, 1.0, 1.5, 2.0, 3.0]\n",
    "\n",
    "results = buffon(disc_diameters)"
   ]
  },
  {
   "cell_type": "code",
   "execution_count": 13,
   "metadata": {},
   "outputs": [
    {
     "name": "stdout",
     "output_type": "stream",
     "text": [
      "---------------------------------------------------\n",
      "d = 0.1\n",
      "P(0 lines) = 0.899948789994879\n",
      "P(1 lines) = 0.100051210005121\n",
      "---------------------------------------------------\n",
      "d = 0.2\n",
      "P(0 lines) = 0.7998154549815455\n",
      "P(1 lines) = 0.2001845450184545\n",
      "---------------------------------------------------\n",
      "d = 0.3\n",
      "P(0 lines) = 0.7000193950019395\n",
      "P(1 lines) = 0.2999806049980605\n",
      "---------------------------------------------------\n",
      "d = 0.4\n",
      "P(0 lines) = 0.6000847350084735\n",
      "P(1 lines) = 0.3999152649915265\n",
      "---------------------------------------------------\n",
      "d = 0.5\n",
      "P(0 lines) = 0.499759249975925\n",
      "P(1 lines) = 0.500240750024075\n",
      "---------------------------------------------------\n",
      "d = 0.6\n",
      "P(0 lines) = 0.400092340009234\n",
      "P(1 lines) = 0.599907659990766\n",
      "---------------------------------------------------\n",
      "d = 0.7\n",
      "P(0 lines) = 0.2996579549657955\n",
      "P(1 lines) = 0.7003420450342045\n",
      "---------------------------------------------------\n",
      "d = 0.8\n",
      "P(0 lines) = 0.1999572949957295\n",
      "P(1 lines) = 0.8000427050042705\n",
      "---------------------------------------------------\n",
      "d = 0.9\n",
      "P(0 lines) = 0.1000167850016785\n",
      "P(1 lines) = 0.8999832149983215\n",
      "---------------------------------------------------\n",
      "d = 1.0\n",
      "P(1 lines) = 1.0\n",
      "---------------------------------------------------\n",
      "d = 1.5\n",
      "P(1 lines) = 0.49976869997687\n",
      "P(2 lines) = 0.50023130002313\n",
      "---------------------------------------------------\n",
      "d = 2.0\n",
      "P(2 lines) = 1.0\n",
      "---------------------------------------------------\n",
      "d = 3.0\n",
      "P(3 lines) = 1.0\n"
     ]
    }
   ],
   "source": [
    "for d, dic in results.items():\n",
    "    print(\"---------------------------------------------------\")\n",
    "    print(f\"d = {d}\")\n",
    "    for line_cross_count, prob in dic.items():\n",
    "        if prob != 0:\n",
    "            print(f\"P({line_cross_count} lines) = {prob}\")"
   ]
  },
  {
   "cell_type": "markdown",
   "metadata": {},
   "source": [
    "# MAKE PLOT FOR THIS QUESTION"
   ]
  },
  {
   "cell_type": "markdown",
   "metadata": {},
   "source": [
    "# Question 2:"
   ]
  },
  {
   "cell_type": "markdown",
   "metadata": {},
   "source": []
  }
 ],
 "metadata": {
  "kernelspec": {
   "display_name": "base",
   "language": "python",
   "name": "python3"
  },
  "language_info": {
   "codemirror_mode": {
    "name": "ipython",
    "version": 3
   },
   "file_extension": ".py",
   "mimetype": "text/x-python",
   "name": "python",
   "nbconvert_exporter": "python",
   "pygments_lexer": "ipython3",
   "version": "3.11.5"
  },
  "orig_nbformat": 4
 },
 "nbformat": 4,
 "nbformat_minor": 2
}
